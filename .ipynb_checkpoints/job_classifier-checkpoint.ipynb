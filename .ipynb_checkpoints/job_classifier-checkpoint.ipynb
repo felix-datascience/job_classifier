{
 "cells": [
  {
   "cell_type": "markdown",
   "metadata": {},
   "source": [
    "# Filtering jobs with machine learning\n",
    "\n",
    "### About the data (how I gathered it and how I labeled it)\n",
    "\n",
    "First of all we need to talk about the data. The data consists of job ads (job title, short description, job location, company) from job searches on indeed on the search term \"data science\". I did other projects with that data and while working on these projects I realized that the search results weren't always really accurate and I had to work with a lot of job ads that were not really job ads of data science jobs... This is why I thought it would be useful to build a **classifier model that helps me filter out these bad job ads.**\n",
    "\n",
    "I was really enthusiastic when I started working on this project but I had troubles early on when I was labeling the data. It was **really difficult to decide from a job title and short description about the job and/or company to which job really was a data science job.** And not only that the descriptions and titles were often hard to decipher (at least for me, having not a lot of experience in the job market...), I realized how loose the term data scientist actually is. **A lot of people have different ideas of what a data scientist is and what a data scientist does.**\n",
    "\n",
    "That's why I decided to generously put the label of \"data science job\" on a lot of job ads. These job ads did not necessarily contain the word \"data science\" or \"data scientist\" (in job titles and descriptions). I tried to include a lot of **jobs where people work analyticaly with data and statistical methods (e.g. data analysts)** and also **jobs where people work with data sources, pipelines, etc. in their company (e.g. data engingeer).** I am sure a lot of people would decide differently on what a data science job is and can be.\n",
    "\n",
    "I am also sure that I did a lot of mistakes when labeling the data and it is really hard to label a data set with more than 1000 rows consistently, so I am not expecting the best results from this model (the worse the data set the worse the model obviously...). Anyway I learned a lot, had fun and even if the model turned out not to be perfect it was not completely useless!"
   ]
  },
  {
   "cell_type": "markdown",
   "metadata": {},
   "source": [
    "### Importing necessary libraries"
   ]
  },
  {
   "cell_type": "code",
   "execution_count": 1,
   "metadata": {},
   "outputs": [],
   "source": [
    "import pandas as pd\n",
    "import numpy as np\n",
    "import seaborn as sns\n",
    "sns.set_style(\"whitegrid\")\n",
    "import matplotlib.pyplot as plt\n",
    "\n",
    "# ml\n",
    "from sklearn.feature_extraction.text import CountVectorizer\n",
    "from sklearn.feature_extraction.text import TfidfVectorizer\n",
    "from sklearn.model_selection import train_test_split, cross_val_score, cross_validate, GridSearchCV\n",
    "from sklearn.ensemble import RandomForestClassifier\n",
    "from sklearn.metrics import roc_curve, precision_recall_curve, auc, make_scorer, recall_score, accuracy_score, precision_score, confusion_matrix, classification_report\n",
    "\n",
    "# nlp\n",
    "from langdetect import detect\n",
    "import spacy\n",
    "import en_core_web_sm\n",
    "import de_core_news_sm"
   ]
  },
  {
   "cell_type": "markdown",
   "metadata": {},
   "source": [
    "### Load data"
   ]
  },
  {
   "cell_type": "code",
   "execution_count": 2,
   "metadata": {},
   "outputs": [],
   "source": [
    "# path to csv file\n",
    "file_path = './data/labeled_data.csv'\n",
    "\n",
    "data = pd.read_csv(file_path)"
   ]
  },
  {
   "cell_type": "code",
   "execution_count": 3,
   "metadata": {},
   "outputs": [
    {
     "data": {
      "text/html": [
       "<div>\n",
       "<style scoped>\n",
       "    .dataframe tbody tr th:only-of-type {\n",
       "        vertical-align: middle;\n",
       "    }\n",
       "\n",
       "    .dataframe tbody tr th {\n",
       "        vertical-align: top;\n",
       "    }\n",
       "\n",
       "    .dataframe thead th {\n",
       "        text-align: right;\n",
       "    }\n",
       "</style>\n",
       "<table border=\"1\" class=\"dataframe\">\n",
       "  <thead>\n",
       "    <tr style=\"text-align: right;\">\n",
       "      <th></th>\n",
       "      <th>title</th>\n",
       "      <th>company</th>\n",
       "      <th>location</th>\n",
       "      <th>description</th>\n",
       "      <th>data_science_job</th>\n",
       "    </tr>\n",
       "  </thead>\n",
       "  <tbody>\n",
       "    <tr>\n",
       "      <th>0</th>\n",
       "      <td>( Senior ) Consultant Actuarial Services und D...</td>\n",
       "      <td>PwC</td>\n",
       "      <td>München</td>\n",
       "      <td>Wir sind ein internationales Netzwerk aus 276....</td>\n",
       "      <td>1.0</td>\n",
       "    </tr>\n",
       "    <tr>\n",
       "      <th>1</th>\n",
       "      <td>(Associate) Developer (f/m/d) - SAP Cloud Plat...</td>\n",
       "      <td>SAP</td>\n",
       "      <td>Walldorf</td>\n",
       "      <td>You will identify areas for improvement using ...</td>\n",
       "      <td>0.0</td>\n",
       "    </tr>\n",
       "    <tr>\n",
       "      <th>2</th>\n",
       "      <td>(Associate) Developer - Migration &amp; Replicatio...</td>\n",
       "      <td>SAP</td>\n",
       "      <td>Walldorf</td>\n",
       "      <td>University degree in computer science or relat...</td>\n",
       "      <td>0.0</td>\n",
       "    </tr>\n",
       "    <tr>\n",
       "      <th>3</th>\n",
       "      <td>(Data) Science Consultant (m/w/d)</td>\n",
       "      <td>blu BEYOND GmbH</td>\n",
       "      <td>Oberhaching</td>\n",
       "      <td>Sie haben gerade erfolgreich Ihr Studium in Ch...</td>\n",
       "      <td>1.0</td>\n",
       "    </tr>\n",
       "    <tr>\n",
       "      <th>4</th>\n",
       "      <td>(Java SE, EE / Python) Full Stack Software Dev...</td>\n",
       "      <td>Templeton and Partners</td>\n",
       "      <td>Dresden</td>\n",
       "      <td>8+ years from which at least 3 years as a Full...</td>\n",
       "      <td>0.0</td>\n",
       "    </tr>\n",
       "  </tbody>\n",
       "</table>\n",
       "</div>"
      ],
      "text/plain": [
       "                                               title                 company  \\\n",
       "0  ( Senior ) Consultant Actuarial Services und D...                     PwC   \n",
       "1  (Associate) Developer (f/m/d) - SAP Cloud Plat...                     SAP   \n",
       "2  (Associate) Developer - Migration & Replicatio...                     SAP   \n",
       "3                  (Data) Science Consultant (m/w/d)         blu BEYOND GmbH   \n",
       "4  (Java SE, EE / Python) Full Stack Software Dev...  Templeton and Partners   \n",
       "\n",
       "      location                                        description  \\\n",
       "0      München  Wir sind ein internationales Netzwerk aus 276....   \n",
       "1     Walldorf  You will identify areas for improvement using ...   \n",
       "2     Walldorf  University degree in computer science or relat...   \n",
       "3  Oberhaching  Sie haben gerade erfolgreich Ihr Studium in Ch...   \n",
       "4      Dresden  8+ years from which at least 3 years as a Full...   \n",
       "\n",
       "   data_science_job  \n",
       "0               1.0  \n",
       "1               0.0  \n",
       "2               0.0  \n",
       "3               1.0  \n",
       "4               0.0  "
      ]
     },
     "execution_count": 3,
     "metadata": {},
     "output_type": "execute_result"
    }
   ],
   "source": [
    "data.head()"
   ]
  },
  {
   "cell_type": "markdown",
   "metadata": {},
   "source": [
    "### Preparing and cleaning the data\n",
    "\n",
    "There are a few things to do before we begin. First of all we are going to turn every string to lower case to make the next steps easier."
   ]
  },
  {
   "cell_type": "code",
   "execution_count": 4,
   "metadata": {},
   "outputs": [],
   "source": [
    "# turn all strings to lower case\n",
    "\n",
    "def turn_lower(s):\n",
    "    if type(s) == str:\n",
    "        return s.lower()\n",
    "    \n",
    "data['title'] = data['title'].apply(turn_lower)\n",
    "data['description'] = data['description'].apply(turn_lower)\n",
    "data['company'] = data['company'].apply(turn_lower)\n",
    "data['location'] = data['location'].apply(turn_lower)"
   ]
  },
  {
   "cell_type": "markdown",
   "metadata": {},
   "source": [
    "Next we will have to fix an error that resultet from the scraping process. In every description text a full stop is followed directly by the following word without a space in between. You can see it in the following example:"
   ]
  },
  {
   "cell_type": "code",
   "execution_count": 5,
   "metadata": {},
   "outputs": [
    {
     "data": {
      "text/plain": [
       "'university degree in computer science or related technical discipline.the migration & replication technology team based in walldorf builds functionality to…'"
      ]
     },
     "execution_count": 5,
     "metadata": {},
     "output_type": "execute_result"
    }
   ],
   "source": [
    "data.description.iloc[2]"
   ]
  },
  {
   "cell_type": "markdown",
   "metadata": {},
   "source": [
    "Let's do it the easy way and just replace every \".\" with \". \":"
   ]
  },
  {
   "cell_type": "code",
   "execution_count": 6,
   "metadata": {},
   "outputs": [],
   "source": [
    "data['description'] = data['description'].str.replace('.', '. ')"
   ]
  },
  {
   "cell_type": "markdown",
   "metadata": {},
   "source": [
    "### Removing company and city names from job descriptions and titles\n",
    "\n",
    "Sometimes the company or job location is referenced in the description texts and job titles. I don't want the model to make decisions based on the company or job location. For example a lot of data science jobs might be from a certain company and a lot of non-data science jobs might be from a certain location. This could lead to a bias where the model would predict any job from a certain city or compay to be a data science job (or not). This does not necessarily lower the model's performance but I am going to remove the companies and job locations from job descriptions and titles so that the model does not include them in it's learning process."
   ]
  },
  {
   "cell_type": "code",
   "execution_count": 7,
   "metadata": {},
   "outputs": [],
   "source": [
    "# remove company and location from job titles and descriptions\n",
    "\n",
    "for idx, row in data.iterrows():\n",
    "    \n",
    "    location = row['location']\n",
    "    company = row['company']\n",
    "    description = row['description']\n",
    "    title = row['title']\n",
    "    \n",
    "    if type(location) == str:\n",
    "        if location in description:\n",
    "            description = description.replace(location, '')\n",
    "        if location in title:\n",
    "            title = title.replace(location, '')\n",
    "    if type(location) == str:\n",
    "        if company in description:\n",
    "            description = description.replace(company, '')\n",
    "        if company in title:\n",
    "            title = title.replace(company, '')\n",
    "            \n",
    "    data.loc[idx, 'description'] = description\n",
    "    data.loc[idx, 'title'] = title"
   ]
  },
  {
   "cell_type": "markdown",
   "metadata": {},
   "source": [
    "### Dealing with multiple languages used in job descriptions and titles\n",
    "\n",
    "The data set consists of job ads on the german job market from de.indeed.com. So obviously a lot of job descriptions are german. There are also many english job ads though. We are going to need to know the language of each description to work with different Spacy models later so let's add a column for the language used in each description:"
   ]
  },
  {
   "cell_type": "code",
   "execution_count": 8,
   "metadata": {},
   "outputs": [],
   "source": [
    "# add column for description language\n",
    "\n",
    "data['desc_lang'] = data['description'].apply(detect)"
   ]
  },
  {
   "cell_type": "code",
   "execution_count": 9,
   "metadata": {},
   "outputs": [
    {
     "data": {
      "text/plain": [
       "en    1143\n",
       "de     429\n",
       "fr       3\n",
       "it       3\n",
       "nl       1\n",
       "Name: desc_lang, dtype: int64"
      ]
     },
     "execution_count": 9,
     "metadata": {},
     "output_type": "execute_result"
    }
   ],
   "source": [
    "data['desc_lang'].value_counts()"
   ]
  },
  {
   "cell_type": "markdown",
   "metadata": {},
   "source": [
    "As we can see english and german descriptions are the majority. Only a couple use another language. Let's drop rows with a language other than english and german."
   ]
  },
  {
   "cell_type": "code",
   "execution_count": 10,
   "metadata": {},
   "outputs": [],
   "source": [
    "# drop rows with strings that are not english or german\n",
    "\n",
    "data = data[data['desc_lang'].isin(['en', 'de'])]"
   ]
  },
  {
   "cell_type": "markdown",
   "metadata": {},
   "source": [
    "What about the job titles though?"
   ]
  },
  {
   "cell_type": "code",
   "execution_count": 11,
   "metadata": {},
   "outputs": [],
   "source": [
    "# add column for title language\n",
    "\n",
    "data['title_lang'] = data['title'].apply(detect)"
   ]
  },
  {
   "cell_type": "code",
   "execution_count": 12,
   "metadata": {},
   "outputs": [
    {
     "data": {
      "text/plain": [
       "en    840\n",
       "it    146\n",
       "de    138\n",
       "ca     86\n",
       "nl     76\n",
       "da     63\n",
       "fr     57\n",
       "af     56\n",
       "ro     24\n",
       "id     23\n",
       "pl     16\n",
       "pt      9\n",
       "sv      9\n",
       "no      5\n",
       "es      5\n",
       "sl      3\n",
       "cy      3\n",
       "hr      3\n",
       "et      2\n",
       "tl      2\n",
       "lv      1\n",
       "sk      1\n",
       "sq      1\n",
       "fi      1\n",
       "lt      1\n",
       "so      1\n",
       "Name: title_lang, dtype: int64"
      ]
     },
     "execution_count": 12,
     "metadata": {},
     "output_type": "execute_result"
    }
   ],
   "source": [
    "data['title_lang'].value_counts()"
   ]
  },
  {
   "cell_type": "markdown",
   "metadata": {},
   "source": [
    "This result seems confusing, why would there be so many different languages used in the job titles? If we have a closer look at the first couple of \"italian\" job titles we can see that they actually don't seem to be italian at all:"
   ]
  },
  {
   "cell_type": "code",
   "execution_count": 13,
   "metadata": {},
   "outputs": [
    {
     "data": {
      "text/html": [
       "<div>\n",
       "<style scoped>\n",
       "    .dataframe tbody tr th:only-of-type {\n",
       "        vertical-align: middle;\n",
       "    }\n",
       "\n",
       "    .dataframe tbody tr th {\n",
       "        vertical-align: top;\n",
       "    }\n",
       "\n",
       "    .dataframe thead th {\n",
       "        text-align: right;\n",
       "    }\n",
       "</style>\n",
       "<table border=\"1\" class=\"dataframe\">\n",
       "  <thead>\n",
       "    <tr style=\"text-align: right;\">\n",
       "      <th></th>\n",
       "      <th>title</th>\n",
       "      <th>company</th>\n",
       "      <th>location</th>\n",
       "      <th>description</th>\n",
       "      <th>data_science_job</th>\n",
       "      <th>desc_lang</th>\n",
       "      <th>title_lang</th>\n",
       "    </tr>\n",
       "  </thead>\n",
       "  <tbody>\n",
       "    <tr>\n",
       "      <th>3</th>\n",
       "      <td>(data) science consultant (m/w/d)</td>\n",
       "      <td>blu beyond gmbh</td>\n",
       "      <td>oberhaching</td>\n",
       "      <td>sie haben gerade erfolgreich ihr studium in ch...</td>\n",
       "      <td>1.0</td>\n",
       "      <td>de</td>\n",
       "      <td>it</td>\n",
       "    </tr>\n",
       "    <tr>\n",
       "      <th>11</th>\n",
       "      <td>(junior) data scientist</td>\n",
       "      <td>skipsearch gmbh</td>\n",
       "      <td>gießen</td>\n",
       "      <td>was ist das für eine stelle?*. wir verantworte...</td>\n",
       "      <td>1.0</td>\n",
       "      <td>de</td>\n",
       "      <td>it</td>\n",
       "    </tr>\n",
       "    <tr>\n",
       "      <th>35</th>\n",
       "      <td>(senior) data scientist</td>\n",
       "      <td>trust in soda</td>\n",
       "      <td>berlin</td>\n",
       "      <td>experience with data streaming technologies i....</td>\n",
       "      <td>1.0</td>\n",
       "      <td>en</td>\n",
       "      <td>it</td>\n",
       "    </tr>\n",
       "    <tr>\n",
       "      <th>36</th>\n",
       "      <td>(senior) data scientist (f/m/d)</td>\n",
       "      <td>fred executive search gmbh</td>\n",
       "      <td>düsseldorf</td>\n",
       "      <td>experience in using big data platforms (spark,...</td>\n",
       "      <td>1.0</td>\n",
       "      <td>en</td>\n",
       "      <td>it</td>\n",
       "    </tr>\n",
       "    <tr>\n",
       "      <th>38</th>\n",
       "      <td>(senior) data scientist (m/w/d)</td>\n",
       "      <td>amadeus fire</td>\n",
       "      <td>köln</td>\n",
       "      <td>(senior) data scientist (m/w/d). sie sind auf ...</td>\n",
       "      <td>1.0</td>\n",
       "      <td>de</td>\n",
       "      <td>it</td>\n",
       "    </tr>\n",
       "  </tbody>\n",
       "</table>\n",
       "</div>"
      ],
      "text/plain": [
       "                                title                     company  \\\n",
       "3   (data) science consultant (m/w/d)             blu beyond gmbh   \n",
       "11            (junior) data scientist             skipsearch gmbh   \n",
       "35            (senior) data scientist               trust in soda   \n",
       "36    (senior) data scientist (f/m/d)  fred executive search gmbh   \n",
       "38    (senior) data scientist (m/w/d)                amadeus fire   \n",
       "\n",
       "       location                                        description  \\\n",
       "3   oberhaching  sie haben gerade erfolgreich ihr studium in ch...   \n",
       "11       gießen  was ist das für eine stelle?*. wir verantworte...   \n",
       "35       berlin  experience with data streaming technologies i....   \n",
       "36   düsseldorf  experience in using big data platforms (spark,...   \n",
       "38         köln  (senior) data scientist (m/w/d). sie sind auf ...   \n",
       "\n",
       "    data_science_job desc_lang title_lang  \n",
       "3                1.0        de         it  \n",
       "11               1.0        de         it  \n",
       "35               1.0        en         it  \n",
       "36               1.0        en         it  \n",
       "38               1.0        de         it  "
      ]
     },
     "execution_count": 13,
     "metadata": {},
     "output_type": "execute_result"
    }
   ],
   "source": [
    "data[data['title_lang'] == 'it'].head()"
   ]
  },
  {
   "cell_type": "markdown",
   "metadata": {},
   "source": [
    "I think the job titles are just harder to detect because they are so short and don't have the same structure as a regular sentence. Let's drop that column again."
   ]
  },
  {
   "cell_type": "code",
   "execution_count": 14,
   "metadata": {},
   "outputs": [],
   "source": [
    "data.drop('title_lang', axis=1, inplace=True)"
   ]
  },
  {
   "cell_type": "markdown",
   "metadata": {},
   "source": [
    "### Lemmatizing and removing unimportant words\n",
    "\n",
    "Now that we know what languages are used in the description texts we can use Spacy's NLP models. We want to lemmatize each word in each description text and keep only adjectives, verbs and nouns. To do that we are going to use the small english and the small german Spacy model.  \n",
    "We are not going to lemmatize the job titles and leave them as they are."
   ]
  },
  {
   "cell_type": "code",
   "execution_count": 15,
   "metadata": {},
   "outputs": [],
   "source": [
    "# load nlp models\n",
    "\n",
    "nlp_en = en_core_web_sm.load()\n",
    "nlp_de =  de_core_news_sm.load()"
   ]
  },
  {
   "cell_type": "code",
   "execution_count": 16,
   "metadata": {},
   "outputs": [],
   "source": [
    "# add rows for lemmatized descriptions\n",
    "\n",
    "def lemmatize_desc(row):\n",
    "    desc = row['description']\n",
    "    if row['desc_lang'] == 'en':\n",
    "        doc = nlp_en(desc)\n",
    "    elif row['desc_lang'] == 'de':\n",
    "        doc = nlp_de(desc)\n",
    "    lem_words = []\n",
    "    for token in doc:\n",
    "        # only keep if adjective, verb or noun\n",
    "        if token.pos_ in ['ADJ', 'VERB', 'NOUN', 'PROPN']:\n",
    "            lem_words.append(token.lemma_)\n",
    "    return ' '.join(lem_words)\n",
    "\n",
    "data['desc_lem'] = data.apply(lemmatize_desc, axis=1)"
   ]
  },
  {
   "cell_type": "markdown",
   "metadata": {},
   "source": [
    "### Vectorizing (bag of words)\n",
    "\n",
    "Now we need to turn each description text and job title into something that our classifier can learn with. We are going to transform all strings into vectors that show which words are used in each description. This is done using the \"bag of words\" method where we collect the n (-> max_features) most common words that are used in all the strings and then we create a vector for each description text (& job title) that has a 1 at every position of a word that is used in the string and a 0 at every position of a word that is not used.\n",
    "We are creating Vectors for the description texts and then job titles. Then we concatenate these vectors:"
   ]
  },
  {
   "cell_type": "code",
   "execution_count": 17,
   "metadata": {},
   "outputs": [],
   "source": [
    "# vectorize description texts\n",
    "\n",
    "vectorizer_desc = CountVectorizer(max_features=500, min_df=5, max_df=0.8)\n",
    "X_desc = vectorizer_desc.fit_transform(data['desc_lem']).toarray()"
   ]
  },
  {
   "cell_type": "code",
   "execution_count": 18,
   "metadata": {},
   "outputs": [],
   "source": [
    "# vectorize job titles\n",
    "\n",
    "vectorizer_titles = CountVectorizer(max_features=200, min_df=5)\n",
    "X_titles = vectorizer_titles.fit_transform(data['desc_lem']).toarray()"
   ]
  },
  {
   "cell_type": "code",
   "execution_count": 19,
   "metadata": {},
   "outputs": [],
   "source": [
    "X = np.concatenate((X_titles, X_desc), axis=1)"
   ]
  },
  {
   "cell_type": "code",
   "execution_count": 20,
   "metadata": {},
   "outputs": [],
   "source": [
    "y = data['data_science_job'].values"
   ]
  },
  {
   "cell_type": "markdown",
   "metadata": {},
   "source": [
    "Then we are going to split the data into train and test data:"
   ]
  },
  {
   "cell_type": "code",
   "execution_count": 21,
   "metadata": {},
   "outputs": [],
   "source": [
    "# split into train and test data\n",
    "\n",
    "X_train, X_test, y_train, y_test = train_test_split(X, y, test_size=0.2, stratify=y, random_state=0)"
   ]
  },
  {
   "cell_type": "markdown",
   "metadata": {},
   "source": [
    "### Building and tuning the model\n",
    "\n",
    "What we need to do next is build the actual classifier! We am going to build a random forest and tune its parameters performing a cross-validated grid search:"
   ]
  },
  {
   "cell_type": "code",
   "execution_count": 22,
   "metadata": {},
   "outputs": [],
   "source": [
    "# define model\n",
    "\n",
    "classifier = RandomForestClassifier(random_state=0)"
   ]
  },
  {
   "cell_type": "code",
   "execution_count": 23,
   "metadata": {},
   "outputs": [],
   "source": [
    "# grid search parameters and scorers\n",
    "\n",
    "param_grid = {\n",
    "    'n_estimators': [100, 500, 1000],\n",
    "    'max_depth': [3, 5, 7, 9]\n",
    "}\n",
    "\n",
    "scorers = {\n",
    "    'precision_score': make_scorer(precision_score),\n",
    "    'recall_score': make_scorer(recall_score),\n",
    "    'accuracy_score': make_scorer(accuracy_score)\n",
    "}"
   ]
  },
  {
   "cell_type": "code",
   "execution_count": 24,
   "metadata": {},
   "outputs": [
    {
     "name": "stdout",
     "output_type": "stream",
     "text": [
      "{'max_depth': 9, 'n_estimators': 1000}\n",
      "[[158  19]\n",
      " [ 72  66]]\n"
     ]
    }
   ],
   "source": [
    "# grid search\n",
    "\n",
    "gs = GridSearchCV(classifier, param_grid, scoring=scorers, refit='recall_score', cv=5, return_train_score=True)\n",
    "\n",
    "gs.fit(X_train, y_train)\n",
    "\n",
    "y_pred = gs.predict(X_test)\n",
    "\n",
    "print(gs.best_params_)\n",
    "print(confusion_matrix(y_test, y_pred))"
   ]
  },
  {
   "cell_type": "code",
   "execution_count": 25,
   "metadata": {},
   "outputs": [
    {
     "data": {
      "text/html": [
       "<div>\n",
       "<style scoped>\n",
       "    .dataframe tbody tr th:only-of-type {\n",
       "        vertical-align: middle;\n",
       "    }\n",
       "\n",
       "    .dataframe tbody tr th {\n",
       "        vertical-align: top;\n",
       "    }\n",
       "\n",
       "    .dataframe thead th {\n",
       "        text-align: right;\n",
       "    }\n",
       "</style>\n",
       "<table border=\"1\" class=\"dataframe\">\n",
       "  <thead>\n",
       "    <tr style=\"text-align: right;\">\n",
       "      <th></th>\n",
       "      <th>param_max_depth</th>\n",
       "      <th>param_n_estimators</th>\n",
       "      <th>mean_test_recall_score</th>\n",
       "      <th>std_test_recall_score</th>\n",
       "      <th>rank_test_recall_score</th>\n",
       "    </tr>\n",
       "  </thead>\n",
       "  <tbody>\n",
       "    <tr>\n",
       "      <th>11</th>\n",
       "      <td>9</td>\n",
       "      <td>1000</td>\n",
       "      <td>0.483522</td>\n",
       "      <td>0.053874</td>\n",
       "      <td>1</td>\n",
       "    </tr>\n",
       "    <tr>\n",
       "      <th>10</th>\n",
       "      <td>9</td>\n",
       "      <td>500</td>\n",
       "      <td>0.483505</td>\n",
       "      <td>0.054615</td>\n",
       "      <td>2</td>\n",
       "    </tr>\n",
       "    <tr>\n",
       "      <th>9</th>\n",
       "      <td>9</td>\n",
       "      <td>100</td>\n",
       "      <td>0.459918</td>\n",
       "      <td>0.059207</td>\n",
       "      <td>3</td>\n",
       "    </tr>\n",
       "    <tr>\n",
       "      <th>7</th>\n",
       "      <td>7</td>\n",
       "      <td>500</td>\n",
       "      <td>0.438198</td>\n",
       "      <td>0.056096</td>\n",
       "      <td>4</td>\n",
       "    </tr>\n",
       "    <tr>\n",
       "      <th>8</th>\n",
       "      <td>7</td>\n",
       "      <td>1000</td>\n",
       "      <td>0.432776</td>\n",
       "      <td>0.055279</td>\n",
       "      <td>5</td>\n",
       "    </tr>\n",
       "    <tr>\n",
       "      <th>6</th>\n",
       "      <td>7</td>\n",
       "      <td>100</td>\n",
       "      <td>0.430975</td>\n",
       "      <td>0.056641</td>\n",
       "      <td>6</td>\n",
       "    </tr>\n",
       "    <tr>\n",
       "      <th>3</th>\n",
       "      <td>5</td>\n",
       "      <td>100</td>\n",
       "      <td>0.374873</td>\n",
       "      <td>0.036917</td>\n",
       "      <td>7</td>\n",
       "    </tr>\n",
       "    <tr>\n",
       "      <th>4</th>\n",
       "      <td>5</td>\n",
       "      <td>500</td>\n",
       "      <td>0.358657</td>\n",
       "      <td>0.034772</td>\n",
       "      <td>8</td>\n",
       "    </tr>\n",
       "    <tr>\n",
       "      <th>5</th>\n",
       "      <td>5</td>\n",
       "      <td>1000</td>\n",
       "      <td>0.351466</td>\n",
       "      <td>0.030188</td>\n",
       "      <td>9</td>\n",
       "    </tr>\n",
       "    <tr>\n",
       "      <th>0</th>\n",
       "      <td>3</td>\n",
       "      <td>100</td>\n",
       "      <td>0.255479</td>\n",
       "      <td>0.029288</td>\n",
       "      <td>10</td>\n",
       "    </tr>\n",
       "    <tr>\n",
       "      <th>2</th>\n",
       "      <td>3</td>\n",
       "      <td>1000</td>\n",
       "      <td>0.255446</td>\n",
       "      <td>0.029046</td>\n",
       "      <td>11</td>\n",
       "    </tr>\n",
       "    <tr>\n",
       "      <th>1</th>\n",
       "      <td>3</td>\n",
       "      <td>500</td>\n",
       "      <td>0.253628</td>\n",
       "      <td>0.027554</td>\n",
       "      <td>12</td>\n",
       "    </tr>\n",
       "  </tbody>\n",
       "</table>\n",
       "</div>"
      ],
      "text/plain": [
       "   param_max_depth param_n_estimators  mean_test_recall_score  \\\n",
       "11               9               1000                0.483522   \n",
       "10               9                500                0.483505   \n",
       "9                9                100                0.459918   \n",
       "7                7                500                0.438198   \n",
       "8                7               1000                0.432776   \n",
       "6                7                100                0.430975   \n",
       "3                5                100                0.374873   \n",
       "4                5                500                0.358657   \n",
       "5                5               1000                0.351466   \n",
       "0                3                100                0.255479   \n",
       "2                3               1000                0.255446   \n",
       "1                3                500                0.253628   \n",
       "\n",
       "    std_test_recall_score  rank_test_recall_score  \n",
       "11               0.053874                       1  \n",
       "10               0.054615                       2  \n",
       "9                0.059207                       3  \n",
       "7                0.056096                       4  \n",
       "8                0.055279                       5  \n",
       "6                0.056641                       6  \n",
       "3                0.036917                       7  \n",
       "4                0.034772                       8  \n",
       "5                0.030188                       9  \n",
       "0                0.029288                      10  \n",
       "2                0.029046                      11  \n",
       "1                0.027554                      12  "
      ]
     },
     "execution_count": 25,
     "metadata": {},
     "output_type": "execute_result"
    }
   ],
   "source": [
    "pd.DataFrame(gs.cv_results_)[['param_max_depth', 'param_n_estimators', 'mean_test_recall_score', \\\n",
    "                              'std_test_recall_score', 'rank_test_recall_score']].sort_values(by='rank_test_recall_score')"
   ]
  },
  {
   "cell_type": "code",
   "execution_count": 26,
   "metadata": {},
   "outputs": [
    {
     "name": "stdout",
     "output_type": "stream",
     "text": [
      "              precision    recall  f1-score   support\n",
      "\n",
      "         0.0       0.69      0.89      0.78       177\n",
      "         1.0       0.78      0.48      0.59       138\n",
      "\n",
      "    accuracy                           0.71       315\n",
      "   macro avg       0.73      0.69      0.68       315\n",
      "weighted avg       0.73      0.71      0.70       315\n",
      "\n"
     ]
    }
   ],
   "source": [
    "print(classification_report(y_test,y_pred))"
   ]
  },
  {
   "cell_type": "markdown",
   "metadata": {},
   "source": [
    "### Adjusting the decision threshold to increase recall\n",
    "\n",
    "Right now our recall on job ads labeled as data science job is pretty low. Only 57% on the test data set. The recall value on non-data science jobs is pretty high on the opposite (88% on the test data set). That's not what we want though, we want to keep as much of the data science job ads and from there filter as much of the non-data science job ads as we can (even if it is only 20% or so). Of course we want to filter as much bad job ads as possible but it is not a good strategy to do that while also filtering out the good job ads that we want to keep and loose valueable data.\n",
    "\n",
    "What we are going to do to push the recall value is **adjust our model's decision threshold.** By default it is set to 50% which means that our modell evaluates any job ad as a data science job ad which gets a probability value (probability of beeing a data science job ad) of 50% or more.  \n",
    "If we **set this value down more job ads are passing the filter** and hopefully our recall value rises (the ratio of bad job ads getting through the filter rises too though)."
   ]
  },
  {
   "cell_type": "code",
   "execution_count": 27,
   "metadata": {},
   "outputs": [],
   "source": [
    "# probabilities for 1 (is data science job)\n",
    "y_scores = gs.predict_proba(X_test)[:, 1]"
   ]
  },
  {
   "cell_type": "code",
   "execution_count": 28,
   "metadata": {},
   "outputs": [],
   "source": [
    "# functions for getting recall and percentage of bad job ads filtered for decision threshold as input\n",
    "\n",
    "def get_recall(dec_thr):\n",
    "    true_pos = np.logical_and(y_test, y_scores > dec_thr)\n",
    "    return np.sum(true_pos) / np.sum(y_test)\n",
    "\n",
    "def get_perc_filtered(dec_thr):\n",
    "    true_neg = np.logical_and(np.logical_not(y_test), y_scores < dec_thr)\n",
    "    return np.sum(true_neg) / np.sum(np.logical_not(y_test))"
   ]
  },
  {
   "cell_type": "code",
   "execution_count": 29,
   "metadata": {},
   "outputs": [
    {
     "data": {
      "image/png": "[encoded data removed]",
      "text/plain": [
       "<Figure size 720x432 with 1 Axes>"
      ]
     },
     "metadata": {},
     "output_type": "display_data"
    }
   ],
   "source": [
    "# plot recall and ratio of filtered bad job ads per decision threshold\n",
    "\n",
    "freq = 0.02\n",
    "\n",
    "recall_filtered = pd.DataFrame({'decision_threshold':[t for t in np.arange(0, 1.01, freq)]})\n",
    "recall_filtered['recall'] = recall_filtered['decision_threshold'].apply(get_recall)\n",
    "recall_filtered['perc_filtered'] = recall_filtered['decision_threshold'].apply(get_perc_filtered)\n",
    "\n",
    "plt.figure(figsize=(10,6))\n",
    "\n",
    "recall_graph = sns.lineplot(data=recall_filtered, x='decision_threshold', y='recall', label='recall')\n",
    "filtered_graph = sns.lineplot(data=recall_filtered, x='decision_threshold', y='perc_filtered', label='ratio of bad job ads filtered')\n",
    "\n",
    "recall_graph.set_xticks(np.arange(0, 1.01, 0.1))\n",
    "recall_graph.set_yticks(np.arange(0, 1.01, 0.1))\n",
    "\n",
    "recall_graph.set_title('Recall and ratio of bad job ads filtered vs. decision threshold')\n",
    "recall_graph.set_xlabel('decision threshold')\n",
    "recall_graph.set_ylabel('recall / bad ads filtered')\n",
    "\n",
    "plt.axvline(x=0.36, linestyle='--', color='grey', label='36% decision threshold')\n",
    "\n",
    "plt.legend()\n",
    "\n",
    "plt.show()"
   ]
  },
  {
   "cell_type": "markdown",
   "metadata": {},
   "source": [
    "If we want our model to keep around 95% of the good job ads we need to set the decision threshold to 36% and our model is able to filter roughly a third of the bad job ads. That is not great but it is something I expected because of the data set beeing pretty loosely labeled (as said in the introduction). For that I am happy with the result."
   ]
  }
 ],
 "metadata": {
  "kernelspec": {
   "display_name": "Python 3",
   "language": "python",
   "name": "python3"
  },
  "language_info": {
   "codemirror_mode": {
    "name": "ipython",
    "version": 3
   },
   "file_extension": ".py",
   "mimetype": "text/x-python",
   "name": "python",
   "nbconvert_exporter": "python",
   "pygments_lexer": "ipython3",
   "version": "3.8.5"
  }
 },
 "nbformat": 4,
 "nbformat_minor": 4
}
